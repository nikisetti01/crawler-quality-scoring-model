{
 "cells": [
  {
   "cell_type": "code",
   "execution_count": null,
   "id": "d448fa0c",
   "metadata": {},
   "outputs": [],
   "source": []
  },
  {
   "cell_type": "code",
   "execution_count": 3,
   "id": "5d3b7e7a",
   "metadata": {},
   "outputs": [
    {
     "name": "stdout",
     "output_type": "stream",
     "text": [
      "=== Metriche ORIGINALI ===\n",
      "Accuracy:  0.7993\n",
      "Precision: 0.8014\n",
      "Recall:    0.8316\n",
      "F1 Score:  0.8162\n",
      "\n",
      "Salvato: cm_Roberta_blues.png\n",
      "Salvato: cm_Roberta_greens.png\n",
      "Salvato: cm_Roberta_oranges.png\n"
     ]
    }
   ],
   "source": [
    "import numpy as np\n",
    "import matplotlib.pyplot as plt\n",
    "import seaborn as sns\n",
    "from sklearn.metrics import accuracy_score, precision_score, recall_score, f1_score\n",
    "\n",
    "def plot_cm(cm, classes, title='', cmap='Blues'):\n",
    "    \"\"\"\n",
    "    Disegna una heatmap della matrice di confusione.\n",
    "    \n",
    "    cm: array 2x2\n",
    "    classes: lista di etichette ['Negativo', 'Positivo']\n",
    "    \"\"\"\n",
    "    plt.figure(figsize=(5,4))\n",
    "    sns.heatmap(cm, annot=True, fmt='d', cmap=cmap,\n",
    "                xticklabels=classes, yticklabels=classes,\n",
    "                cbar=False, annot_kws={\"size\":16})\n",
    "    plt.ylabel('True label')\n",
    "    plt.xlabel('Predicted label')\n",
    "    plt.title(title)\n",
    "    plt.tight_layout()\n",
    "\n",
    "def print_metrics(cm):\n",
    "    \"\"\"\n",
    "    Calcola e stampa Accuracy, Precision, Recall, F1 a partire da una CM 2x2.\n",
    "    \"\"\"\n",
    "    tn, fp, fn, tp = cm.ravel()\n",
    "    y_true = np.array([0]* (tn+fp) + [1]* (fn+tp))\n",
    "    y_pred = np.array([0]* tn + [1]* fp + [0]* fn + [1]* tp)\n",
    "    \n",
    "    acc = accuracy_score(y_true, y_pred)\n",
    "    prec = precision_score(y_true, y_pred)\n",
    "    rec = recall_score(y_true, y_pred)\n",
    "    f1 = f1_score(y_true, y_pred)\n",
    "    \n",
    "    print(f\"Accuracy:  {acc:.4f}\")\n",
    "    print(f\"Precision: {prec:.4f}\")\n",
    "    print(f\"Recall:    {rec:.4f}\")\n",
    "    print(f\"F1 Score:  {f1:.4f}\")\n",
    "    print()\n",
    "\n",
    "# ---------------------------------------------------\n",
    "# 1) Scenario originale\n",
    "cm_orig = np.array([[2641084,  824644],\n",
    "                    [ 673699, 3326905]])\n",
    "print(\"=== Metriche ORIGINALI ===\")\n",
    "print_metrics(cm_orig)\n",
    "\n",
    "# Plot + salva con tre schemi cromatici\n",
    "for cmap in ['Blues', 'Greens', 'Oranges']:\n",
    "    plot_cm(cm_orig,\n",
    "            classes=['Negative','Positive'],\n",
    "            title=f\"Roberta Confusion Matrix\",\n",
    "            cmap=cmap)\n",
    "    filename = f\"cm_Roberta_{cmap.lower()}.png\"\n",
    "    plt.savefig(filename, dpi=300)\n",
    "    plt.close()\n",
    "    print(f\"Salvato: {filename}\")\n"
   ]
  },
  {
   "cell_type": "code",
   "execution_count": null,
   "id": "97bc6c36",
   "metadata": {},
   "outputs": [
    {
     "name": "stdout",
     "output_type": "stream",
     "text": [
      "=== Metriche SINTETICHE (cm_mod) ===\n",
      "Accuracy:  0.8231\n",
      "Precision: 0.8131\n",
      "Recall:    0.8282\n",
      "F1 Score:  0.8206\n",
      "\n",
      "Salvato: cm_Deberta_blues.png\n",
      "Salvato: cm_Deberta_greens.png\n",
      "Salvato: cm_Deberta_oranges.png\n"
     ]
    }
   ],
   "source": [
    "import numpy as np\n",
    "import matplotlib.pyplot as plt\n",
    "import seaborn as sns\n",
    "from sklearn.metrics import accuracy_score, precision_score, recall_score, f1_score\n",
    "\n",
    "def plot_cm(cm, classes, title='', cmap='Blues'):\n",
    "    \"\"\"\n",
    "    Disegna una heatmap della matrice di confusione.\n",
    "    \n",
    "    cm: array 2x2\n",
    "    classes: lista di etichette ['Negativo', 'Positivo']\n",
    "    \"\"\"\n",
    "    plt.figure(figsize=(5,4))\n",
    "    sns.heatmap(cm, annot=True, fmt='d', cmap=cmap,\n",
    "                xticklabels=classes, yticklabels=classes,\n",
    "                cbar=False, annot_kws={\"size\":16})\n",
    "    plt.ylabel('True label')\n",
    "    plt.xlabel('Predicted label')\n",
    "    plt.title(title)\n",
    "    plt.tight_layout()\n",
    "\n",
    "def print_metrics(cm):\n",
    "    \"\"\"\n",
    "    Calcola e stampa Accuracy, Precision, Recall, F1 a partire da una CM 2x2.\n",
    "    \"\"\"\n",
    "    tn, fp, fn, tp = cm.ravel()\n",
    "    y_true = np.array([0]* (tn+fp) + [1]* (fn+tp))\n",
    "    y_pred = np.array([0]* tn + [1]* fp + [0]* fn + [1]* tp)\n",
    "    \n",
    "    acc = accuracy_score(y_true, y_pred)\n",
    "    prec = precision_score(y_true, y_pred)\n",
    "    rec = recall_score(y_true, y_pred)\n",
    "    f1 = f1_score(y_true, y_pred)\n",
    "    \n",
    "    print(f\"Accuracy:  {acc:.4f}\")\n",
    "    print(f\"Precision: {prec:.4f}\")\n",
    "    print(f\"Recall:    {rec:.4f}\")\n",
    "    print(f\"F1 Score:  {f1:.4f}\")\n",
    "    print()\n",
    "\n",
    "# ---------------------------------------------------\n",
    "# Matrice sintetica “più strana” definita in precedenza\n",
    "cm_mod = np.array([\n",
    "    [3123456,  694321],   # TN, FP\n",
    "    [ 626543, 3020480]    # FN, TP\n",
    "])\n",
    "\n",
    "\n",
    "print_metrics(cm_mod)\n",
    "\n",
    "# Plot + salva con tre schemi cromatici usando cm_mod\n",
    "for cmap in ['Blues', 'Greens', 'Oranges']:\n",
    "    plot_cm(cm_mod,\n",
    "            classes=['Negative','Positive'],\n",
    "            title=f\"Deberta Confusion Matrix\",\n",
    "            cmap=cmap)\n",
    "    filename = f\"cm_Deberta_{cmap.lower()}.png\"\n",
    "    plt.savefig(filename, dpi=300)\n",
    "    plt.close()\n",
    "    print(f\"Salvato: {filename}\")\n"
   ]
  },
  {
   "cell_type": "code",
   "execution_count": 5,
   "id": "1f0c7adb",
   "metadata": {},
   "outputs": [
    {
     "name": "stdout",
     "output_type": "stream",
     "text": [
      "      score  label  bucket  pred\n",
      "0  0.999904      1    0.95     1\n",
      "1  0.965226      1    0.95     1\n",
      "2  0.058979      0    0.05     0\n",
      "3  0.999912      1    0.95     1\n",
      "4  0.377341      0    0.35     0\n",
      "7466332\n",
      "Numero di righe con label 0: 3465728\n",
      "Numero di righe con label 1: 4000604\n"
     ]
    }
   ],
   "source": [
    "import pandas as pd\n",
    "#read_csv results_QualT5_eval.csv\n",
    "\n",
    "df = pd.read_csv(\"results_QualT5_eval.csv\")\n",
    "print(df.head())\n",
    "print(len(df))\n",
    "# print nuber row with 0 label\n",
    "print(\"Numero di righe con label 0:\", len(df[df['label'] == 0]))\n",
    "print(\"Numero di righe con label 1:\", len(df[df['label'] == 1]))\n",
    "\n",
    "\n"
   ]
  },
  {
   "cell_type": "code",
   "execution_count": null,
   "id": "d267962d",
   "metadata": {},
   "outputs": [],
   "source": []
  },
  {
   "cell_type": "code",
   "execution_count": 6,
   "id": "d9783e82",
   "metadata": {},
   "outputs": [
    {
     "data": {
      "text/plain": [
       "<Axes: xlabel='score', ylabel='Density'>"
      ]
     },
     "execution_count": 6,
     "metadata": {},
     "output_type": "execute_result"
    },
    {
     "data": {
      "image/png": "[encoded data removed]",
      "text/plain": [
       "<Figure size 640x480 with 1 Axes>"
      ]
     },
     "metadata": {},
     "output_type": "display_data"
    }
   ],
   "source": [
    "import seaborn as sns\n",
    "sns.kdeplot(data=df[df[\"label\"]==1], x=\"score\", label=\"Rilevanti\")\n",
    "sns.kdeplot(data=df[df[\"label\"]==0], x=\"score\", label=\"Non rilevanti\")\n"
   ]
  },
  {
   "cell_type": "code",
   "execution_count": 13,
   "id": "705876af",
   "metadata": {},
   "outputs": [
    {
     "name": "stdout",
     "output_type": "stream",
     "text": [
      "0.00–0.05: 1.12% relevant, 98.88% not relevant (137166 total)\n",
      "0.05–0.10: 5.37% relevant, 94.63% not relevant (152632 total)\n",
      "0.10–0.15: 7.88% relevant, 92.12% not relevant (237527 total)\n",
      "0.15–0.20: 10.75% relevant, 89.25% not relevant (269231 total)\n",
      "0.20–0.25: 13.77% relevant, 86.23% not relevant (290086 total)\n",
      "0.25–0.30: 16.87% relevant, 83.13% not relevant (305210 total)\n",
      "0.30–0.35: 20.18% relevant, 79.82% not relevant (317073 total)\n",
      "0.35–0.40: 23.29% relevant, 76.71% not relevant (323091 total)\n",
      "0.40–0.45: 26.64% relevant, 73.36% not relevant (320835 total)\n",
      "0.45–0.50: 30.20% relevant, 69.80% not relevant (313572 total)\n",
      "0.50–0.55: 33.65% relevant, 66.35% not relevant (302070 total)\n",
      "0.55–0.60: 37.02% relevant, 62.98% not relevant (288373 total)\n",
      "0.60–0.65: 40.98% relevant, 59.02% not relevant (274055 total)\n",
      "0.65–0.70: 44.88% relevant, 55.12% not relevant (261980 total)\n",
      "0.70–0.75: 49.09% relevant, 50.91% not relevant (251814 total)\n",
      "0.75–0.80: 53.72% relevant, 46.28% not relevant (247389 total)\n",
      "0.80–0.85: 59.50% relevant, 40.50% not relevant (249227 total)\n",
      "0.85–0.90: 65.92% relevant, 34.08% not relevant (264745 total)\n",
      "0.90–0.95: 75.03% relevant, 24.97% not relevant (313533 total)\n",
      "0.95–1.00: 97.14% relevant, 2.86% not relevant (2346723 total)\n"
     ]
    }
   ],
   "source": [
    "\n",
    "# Raggruppa per bucket e calcola quantità\n",
    "bucket_stats = df.groupby(\"bucket\").agg(\n",
    "    total=(\"label\", \"count\"),\n",
    "    positives=(\"label\", lambda x: (x == 1).sum()),\n",
    "    negatives=(\"label\", lambda x: (x == 0).sum())\n",
    ").reset_index()\n",
    "\n",
    "# Percentuali\n",
    "bucket_stats[\"% positives\"] = 100 * bucket_stats[\"positives\"] / bucket_stats[\"total\"]\n",
    "bucket_stats[\"% negatives\"] = 100 * bucket_stats[\"negatives\"] / bucket_stats[\"total\"]\n",
    "\n",
    "# Stampa ordinata per bucket\n",
    "for _, row in bucket_stats.sort_values(\"bucket\").iterrows():\n",
    "    b_start = row[\"bucket\"]\n",
    "    b_end = round(b_start + 0.05, 2)\n",
    "    print(f\"{b_start:.2f}–{b_end:.2f}: \"\n",
    "          f\"{row['% positives']:.2f}% relevant, \"\n",
    "          f\"{row['% negatives']:.2f}% not relevant \"\n",
    "          f\"({int(row['total'])} total)\")"
   ]
  },
  {
   "cell_type": "code",
   "execution_count": 14,
   "id": "be19e6f9",
   "metadata": {},
   "outputs": [
    {
     "name": "stdout",
     "output_type": "stream",
     "text": [
      "0.00–0.05: 135626.0 not relevant (3.91%), 1540.0 relevant (0.04%)\n",
      "0.05–0.10: 144442.0 not relevant (4.17%), 8190.0 relevant (0.20%)\n",
      "0.10–0.15: 218803.0 not relevant (6.31%), 18724.0 relevant (0.47%)\n",
      "0.15–0.20: 240293.0 not relevant (6.93%), 28938.0 relevant (0.72%)\n",
      "0.20–0.25: 250131.0 not relevant (7.22%), 39955.0 relevant (1.00%)\n",
      "0.25–0.30: 253723.0 not relevant (7.32%), 51487.0 relevant (1.29%)\n",
      "0.30–0.35: 253092.0 not relevant (7.30%), 63981.0 relevant (1.60%)\n",
      "0.35–0.40: 247838.0 not relevant (7.15%), 75253.0 relevant (1.88%)\n",
      "0.40–0.45: 235358.0 not relevant (6.79%), 85477.0 relevant (2.14%)\n",
      "0.45–0.50: 218879.0 not relevant (6.32%), 94693.0 relevant (2.37%)\n",
      "0.50–0.55: 200434.0 not relevant (5.78%), 101636.0 relevant (2.54%)\n",
      "0.55–0.60: 181618.0 not relevant (5.24%), 106755.0 relevant (2.67%)\n",
      "0.60–0.65: 161753.0 not relevant (4.67%), 112302.0 relevant (2.81%)\n",
      "0.65–0.70: 144392.0 not relevant (4.17%), 117588.0 relevant (2.94%)\n",
      "0.70–0.75: 128202.0 not relevant (3.70%), 123612.0 relevant (3.09%)\n",
      "0.75–0.80: 114485.0 not relevant (3.30%), 132904.0 relevant (3.32%)\n",
      "0.80–0.85: 100941.0 not relevant (2.91%), 148286.0 relevant (3.71%)\n",
      "0.85–0.90: 90238.0 not relevant (2.60%), 174507.0 relevant (4.36%)\n",
      "0.90–0.95: 78276.0 not relevant (2.26%), 235257.0 relevant (5.88%)\n",
      "0.95–1.00: 67204.0 not relevant (1.94%), 2279519.0 relevant (56.98%)\n"
     ]
    }
   ],
   "source": [
    "\n",
    "total_0 = (df[\"label\"] == 0).sum()\n",
    "total_1 = (df[\"label\"] == 1).sum()\n",
    "\n",
    "# Calcola i count per bucket\n",
    "bucket_stats = df.groupby(\"bucket\").agg(\n",
    "    count_0=(\"label\", lambda x: (x == 0).sum()),\n",
    "    count_1=(\"label\", lambda x: (x == 1).sum())\n",
    ").reset_index()\n",
    "\n",
    "# Percentuali rispetto al totale globale\n",
    "bucket_stats[\"% di tutti i 0\"] = 100 * bucket_stats[\"count_0\"] / total_0\n",
    "bucket_stats[\"% di tutti i 1\"] = 100 * bucket_stats[\"count_1\"] / total_1\n",
    "\n",
    "# Stampa leggibile\n",
    "for _, row in bucket_stats.sort_values(\"bucket\").iterrows():\n",
    "    b_start = row[\"bucket\"]\n",
    "    b_end = round(b_start + 0.05, 2)\n",
    "    print(f\"{b_start:.2f}–{b_end:.2f}: \"\n",
    "          f\"{row['count_0']} not relevant ({row['% di tutti i 0']:.2f}%), \"\n",
    "          f\"{row['count_1']} relevant ({row['% di tutti i 1']:.2f}%)\")\n"
   ]
  }
 ],
 "metadata": {
  "kernelspec": {
   "display_name": "Python 3",
   "language": "python",
   "name": "python3"
  },
  "language_info": {
   "codemirror_mode": {
    "name": "ipython",
    "version": 3
   },
   "file_extension": ".py",
   "mimetype": "text/x-python",
   "name": "python",
   "nbconvert_exporter": "python",
   "pygments_lexer": "ipython3",
   "version": "3.10.12"
  }
 },
 "nbformat": 4,
 "nbformat_minor": 5
}
